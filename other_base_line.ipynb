{
 "cells": [
  {
   "cell_type": "code",
   "execution_count": 1,
   "metadata": {
    "collapsed": true
   },
   "outputs": [
    {
     "name": "stdout",
     "output_type": "stream",
     "text": [
      "True\n"
     ]
    },
    {
     "data": {
      "text/plain": "790"
     },
     "execution_count": 1,
     "metadata": {},
     "output_type": "execute_result"
    }
   ],
   "source": [
    "import pandas as pd\n",
    "# import numpy as np\n",
    "import pandas as pd\n",
    "import matplotlib.pyplot as plt\n",
    "from sklearn.model_selection import train_test_split, GridSearchCV\n",
    "from sklearn.metrics import accuracy_score, roc_auc_score, f1_score\n",
    "import xgboost as xgb\n",
    "from xgboost import XGBClassifier, plot_importance\n",
    "import warnings\n",
    "from sklearn.metrics import precision_score,recall_score,roc_auc_score,roc_curve\n",
    "import pickle\n",
    "\n",
    "train = pd.read_csv('bert_trad_train.csv')\n",
    "\n",
    "temp = type([1,2])\n",
    "print(type(list([1,2])) == temp)\n",
    "len(eval(train['feature'][0]))"
   ]
  },
  {
   "cell_type": "code",
   "execution_count": 2,
   "outputs": [],
   "source": [
    "\n",
    "def from_data_x():\n",
    "    data = [eval(str_list) for str_list in train['feature']]\n",
    "    data = pd.DataFrame(data)\n",
    "    return data.to_numpy()\n",
    "def from_data_y():\n",
    "    labels = train['labels']\n",
    "    return labels.to_numpy()\n",
    "\n",
    "\n",
    "# 假设data是包含数据的DataFrame，target是包含标签的Series\n",
    "X = from_data_x()  # 特征数据\n",
    "y = from_data_y()  # 标签数据\n",
    "\n",
    "\n",
    "\n",
    "# 划分训练集和测试集\n",
    "X_train, X_test, y_train, y_test = train_test_split(X, y, test_size=0.2, random_state=100,shuffle=True)"
   ],
   "metadata": {
    "collapsed": false
   }
  },
  {
   "cell_type": "code",
   "execution_count": 3,
   "outputs": [],
   "source": [
    "def metrics_sklearn( y_pred_,y_valid):\n",
    "    \"\"\"模型对验证集和测试集结果的评分\"\"\"\n",
    "    # 准确率\n",
    "    accuracy = accuracy_score(y_valid, y_pred_)\n",
    "    print('Accuracy：%.6f%%' % (accuracy * 100))\n",
    "\n",
    "    # 精准率\n",
    "    precision = precision_score(y_valid, y_pred_)\n",
    "    print('Precision：%.6f%%' % (precision * 100))\n",
    "\n",
    "    # 召回率\n",
    "    recall = recall_score(y_valid, y_pred_)\n",
    "    # print(y_valid)\n",
    "    # print('-----------------------------')\n",
    "    # print(y_pred_)\n",
    "    print('Recall：%.6f%%' % (recall * 100))\n",
    "\n",
    "    # F1值\n",
    "    f1 = f1_score(y_valid, y_pred_)\n",
    "    print('F1：%.6f%%' % (f1 * 100))\n",
    "\n",
    "    # auc曲线下面积\n",
    "    auc = roc_auc_score(y_valid, y_pred_)\n",
    "    print('AUC：%.6f%%' % (auc * 100))\n",
    "\n",
    "    # ks值\n",
    "    fpr, tpr, thresholds = roc_curve(y_valid, y_pred_)\n",
    "    ks = max(abs(fpr - tpr))\n",
    "    print('KS：%.6f%%' % (ks * 100))\n"
   ],
   "metadata": {
    "collapsed": false
   }
  },
  {
   "cell_type": "code",
   "execution_count": 3,
   "outputs": [],
   "source": [],
   "metadata": {
    "collapsed": false
   }
  },
  {
   "cell_type": "code",
   "execution_count": 4,
   "outputs": [],
   "source": [
    "def one_dragon(model):\n",
    "    model.fit(X_train,y_train)\n",
    "\n",
    "    predictions = model.predict(X_test)\n",
    "    metrics_sklearn(predictions,y_test)\n"
   ],
   "metadata": {
    "collapsed": false
   }
  },
  {
   "cell_type": "code",
   "execution_count": 6,
   "outputs": [
    {
     "name": "stdout",
     "output_type": "stream",
     "text": [
      "Accuracy：83.950617%\n",
      "Precision：0.000000%\n",
      "Recall：0.000000%\n",
      "F1：0.000000%\n",
      "AUC：50.000000%\n",
      "KS：0.000000%\n"
     ]
    },
    {
     "name": "stderr",
     "output_type": "stream",
     "text": [
      "D:\\SoftWare\\Anaconda\\envs\\pytorch\\lib\\site-packages\\sklearn\\metrics\\_classification.py:1344: UndefinedMetricWarning: Precision is ill-defined and being set to 0.0 due to no predicted samples. Use `zero_division` parameter to control this behavior.\n",
      "  _warn_prf(average, modifier, msg_start, len(result))\n"
     ]
    },
    {
     "name": "stdout",
     "output_type": "stream",
     "text": [
      "Accuracy：83.950617%\n",
      "Precision：0.000000%\n",
      "Recall：0.000000%\n",
      "F1：0.000000%\n",
      "AUC：50.000000%\n",
      "KS：0.000000%\n"
     ]
    },
    {
     "name": "stderr",
     "output_type": "stream",
     "text": [
      "D:\\SoftWare\\Anaconda\\envs\\pytorch\\lib\\site-packages\\sklearn\\metrics\\_classification.py:1344: UndefinedMetricWarning: Precision is ill-defined and being set to 0.0 due to no predicted samples. Use `zero_division` parameter to control this behavior.\n",
      "  _warn_prf(average, modifier, msg_start, len(result))\n"
     ]
    },
    {
     "name": "stdout",
     "output_type": "stream",
     "text": [
      "Accuracy：81.687243%\n",
      "Precision：23.809524%\n",
      "Recall：6.410256%\n",
      "F1：10.101010%\n",
      "AUC：51.244344%\n",
      "KS：2.488688%\n",
      "Accuracy：69.238683%\n",
      "Precision：11.764706%\n",
      "Recall：14.102564%\n",
      "F1：12.827988%\n",
      "AUC：46.940988%\n",
      "KS：6.118024%\n",
      "Accuracy：83.744856%\n",
      "Precision：0.000000%\n",
      "Recall：0.000000%\n",
      "F1：0.000000%\n",
      "AUC：49.877451%\n",
      "KS：0.245098%\n"
     ]
    },
    {
     "name": "stderr",
     "output_type": "stream",
     "text": [
      "D:\\SoftWare\\Anaconda\\envs\\pytorch\\lib\\site-packages\\sklearn\\linear_model\\_logistic.py:458: ConvergenceWarning: lbfgs failed to converge (status=1):\n",
      "STOP: TOTAL NO. of ITERATIONS REACHED LIMIT.\n",
      "\n",
      "Increase the number of iterations (max_iter) or scale the data as shown in:\n",
      "    https://scikit-learn.org/stable/modules/preprocessing.html\n",
      "Please also refer to the documentation for alternative solver options:\n",
      "    https://scikit-learn.org/stable/modules/linear_model.html#logistic-regression\n",
      "  n_iter_i = _check_optimize_result(\n"
     ]
    },
    {
     "name": "stdout",
     "output_type": "stream",
     "text": [
      "Accuracy：75.308642%\n",
      "Precision：16.666667%\n",
      "Recall：13.461538%\n",
      "F1：14.893617%\n",
      "AUC：50.296946%\n",
      "KS：0.593891%\n",
      "Accuracy：54.938272%\n",
      "Precision：14.925373%\n",
      "Recall：38.461538%\n",
      "F1：21.505376%\n",
      "AUC：48.274887%\n",
      "KS：3.450226%\n"
     ]
    }
   ],
   "source": [
    "\"\"\"\n",
    "6  模型训练及预测\n",
    "\"\"\"\n",
    "from sklearn.svm import SVC\n",
    "\n",
    "from sklearn import datasets\n",
    "from sklearn.model_selection import train_test_split\n",
    "from sklearn.svm import SVC\n",
    "from sklearn.ensemble import RandomForestClassifier, AdaBoostClassifier, GradientBoostingClassifier\n",
    "from sklearn.tree import DecisionTreeClassifier\n",
    "from sklearn.neighbors import KNeighborsClassifier\n",
    "from sklearn.linear_model import LogisticRegression\n",
    "from sklearn.metrics import accuracy_score\n",
    "\n",
    "\n",
    "\n",
    "# 初始化并训练支持向量机分类器\n",
    "svm_classifier = SVC()\n",
    "\n",
    "\n",
    "# 初始化并训练随机森林分类器\n",
    "rf_classifier = RandomForestClassifier()\n",
    "\n",
    "\n",
    "# 初始化并训练AdaBoost分类器\n",
    "ada_classifier = AdaBoostClassifier()\n",
    "\n",
    "\n",
    "# 初始化并训练决策树分类器\n",
    "dt_classifier = DecisionTreeClassifier()\n",
    "\n",
    "\n",
    "# 初始化并训练梯度提升分类器\n",
    "gb_classifier = GradientBoostingClassifier()\n",
    "\n",
    "# 初始化并训练逻辑回归模型\n",
    "lr_classifier = LogisticRegression(multi_class='auto')\n",
    "\n",
    "\n",
    "# 初始化并训练K近邻分类器\n",
    "knn_classifier = KNeighborsClassifier()\n",
    "\n",
    "\n",
    "one_dragon(svm_classifier)\n",
    "one_dragon(rf_classifier)\n",
    "one_dragon(ada_classifier)\n",
    "one_dragon(dt_classifier)\n",
    "one_dragon(gb_classifier)\n",
    "one_dragon(lr_classifier)\n",
    "one_dragon(knn_classifier)"
   ],
   "metadata": {
    "collapsed": false
   }
  },
  {
   "cell_type": "code",
   "execution_count": 5,
   "outputs": [],
   "source": [],
   "metadata": {
    "collapsed": false
   }
  }
 ],
 "metadata": {
  "kernelspec": {
   "display_name": "Python 3",
   "language": "python",
   "name": "python3"
  },
  "language_info": {
   "codemirror_mode": {
    "name": "ipython",
    "version": 2
   },
   "file_extension": ".py",
   "mimetype": "text/x-python",
   "name": "python",
   "nbconvert_exporter": "python",
   "pygments_lexer": "ipython2",
   "version": "2.7.6"
  }
 },
 "nbformat": 4,
 "nbformat_minor": 0
}
