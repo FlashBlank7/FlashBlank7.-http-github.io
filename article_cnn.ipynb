{
 "cells": [
  {
   "cell_type": "code",
   "execution_count": 1,
   "outputs": [],
   "source": [
    "import logging\n",
    "import os\n",
    "import sys\n",
    "import pickle\n",
    "import time\n",
    "\n",
    "import pandas as pd\n",
    "import torch\n",
    "from torch import nn\n",
    "from torch.nn import functional as F\n",
    "from torch import optim\n",
    "from torch.autograd import Variable\n",
    "from tqdm import tqdm\n",
    "\n",
    "\n",
    "from sklearn.metrics import accuracy_score\n",
    "\n",
    "\n",
    "# test = pd.read_csv(r\"corpus\\imdb\\testData.tsv\", header=0, delimiter=\"\\t\", quoting=3)\n",
    "\n",
    "\n",
    "num_epochs = 100\n",
    "embed_size = 300\n",
    "num_filter = 128\n",
    "filter_size = 3\n",
    "bidirectional = True\n",
    "batch_size = 256\n",
    "labels = 2\n",
    "lr = 0.02\n",
    "device = torch.device('cuda:0')\n",
    "use_gpu = True\n",
    "\n",
    "\n",
    "# cnn和transformer还挺像的，\n",
    "# cnn应该代表的是基于词向量（定长输入）的类注意力机制\n",
    "\n",
    "class SentimentNet(nn.Module):\n",
    "    def __init__(self, embed_size, num_filter, filter_size, weight, labels, use_gpu, **kwargs):\n",
    "        super(SentimentNet, self).__init__(**kwargs)\n",
    "\n",
    "        self.use_gpu = use_gpu\n",
    "        # 话说这个不会是我前面做的单词到词向量的映射表吧？？ 答：不用怀疑，正是\n",
    "        self.embedding = nn.Embedding.from_pretrained(weight)\n",
    "        # 防止嵌入层在训练中更新\n",
    "        self.embedding.weight.requires_grad = False\n",
    "\n",
    "        # 啥玩意儿这是？\n",
    "        self.conv1d = nn.Conv1d(embed_size, num_filter, filter_size, padding=1)\n",
    "        self.activate = F.relu\n",
    "        self.decoder = nn.Linear(num_filter, labels)\n",
    "\n",
    "\n",
    "    def forward(self, inputs):\n",
    "        embeddings = self.embedding(inputs)\n",
    "        # print(embeddings.shape)\n",
    "        convolution = self.activate(self.conv1d(embeddings.permute([0, 2, 1])))\n",
    "        # print(convolution.shape)\n",
    "\n",
    "        pooling = F.max_pool1d(convolution, kernel_size=convolution.shape[2])\n",
    "\n",
    "        outputs = self.decoder(pooling.squeeze(dim=2))\n",
    "        # print(outputs)\n",
    "        # print(self.decoder)\n",
    "\n",
    "        return outputs\n",
    "\n",
    "\n",
    "\n"
   ],
   "metadata": {
    "collapsed": false
   }
  },
  {
   "cell_type": "markdown",
   "source": [],
   "metadata": {
    "collapsed": false
   }
  },
  {
   "cell_type": "code",
   "execution_count": 2,
   "outputs": [
    {
     "name": "stderr",
     "output_type": "stream",
     "text": [
      "2024-04-18 10:04:54,218: INFO: running D:\\SoftWare\\Anaconda\\envs\\pytorch\\lib\\site-packages\\ipykernel_launcher.py-fC:\\Users\\FlashBlack7\\AppData\\Roaming\\jupyter\\runtime\\kernel-1f8d313a-b8ba-477c-acd0-b1649f836ecf.json\n",
      "2024-04-18 10:04:54,219: INFO: loading data...\n"
     ]
    }
   ],
   "source": [
    "program = os.path.basename(sys.argv[0])\n",
    "logger = logging.getLogger(program)\n",
    "\n",
    "logging.basicConfig(format='%(asctime)s: %(levelname)s: %(message)s')\n",
    "logging.root.setLevel(level=logging.INFO)\n",
    "logger.info(r\"running %s\" % ''.join(sys.argv))\n",
    "\n",
    "logging.info('loading data...')\n"
   ],
   "metadata": {
    "collapsed": false
   }
  },
  {
   "cell_type": "code",
   "execution_count": 3,
   "outputs": [],
   "source": [
    "pickle_file = 'depression_glove_42B_300d.pkl'\n",
    "[train_features, train_labels, val_features, val_labels, test_features, weight, word_to_idx, idx_to_word, vocab] = pickle.load(open(pickle_file, 'rb'))"
   ],
   "metadata": {
    "collapsed": false
   }
  },
  {
   "cell_type": "code",
   "execution_count": 4,
   "outputs": [],
   "source": [
    "net = SentimentNet(embed_size=embed_size, num_filter=num_filter, filter_size=filter_size,weight=weight, labels=labels, use_gpu=use_gpu)\n",
    "net.to(device)\n",
    "loss_function = nn.CrossEntropyLoss()\n",
    "optimizer = optim.SGD(net.parameters(), lr=lr)\n",
    "train_set = torch.utils.data.TensorDataset(train_features, train_labels)\n",
    "val_set = torch.utils.data.TensorDataset(val_features, val_labels)\n",
    "test_set = torch.utils.data.TensorDataset(test_features, )\n",
    "\n",
    "train_iter = torch.utils.data.DataLoader(train_set, batch_size=batch_size, shuffle=True)\n",
    "val_iter = torch.utils.data.DataLoader(val_set, batch_size=batch_size, shuffle=False)\n",
    "test_iter = torch.utils.data.DataLoader(test_set, batch_size=batch_size, shuffle=False)\n"
   ],
   "metadata": {
    "collapsed": false
   }
  },
  {
   "cell_type": "code",
   "execution_count": 5,
   "outputs": [
    {
     "name": "stderr",
     "output_type": "stream",
     "text": [
      "Epoch 0: 100%|██████████| 14/14 [00:01<00:00, 11.97it/s, epoch=0, train loss=0.5049, train acc=0.79, val loss=0.4934, val acc=0.81, time=1.17]\n",
      "Epoch 1: 100%|██████████| 14/14 [00:00<00:00, 31.71it/s, epoch=1, train loss=0.4621, train acc=0.83, val loss=0.4892, val acc=0.81, time=0.44]\n",
      "Epoch 2: 100%|██████████| 14/14 [00:00<00:00, 31.80it/s, epoch=2, train loss=0.4564, train acc=0.84, val loss=0.4852, val acc=0.81, time=0.44]\n",
      "Epoch 3: 100%|██████████| 14/14 [00:00<00:00, 31.58it/s, epoch=3, train loss=0.4463, train acc=0.84, val loss=0.4868, val acc=0.81, time=0.44]\n",
      "Epoch 4: 100%|██████████| 14/14 [00:00<00:00, 31.72it/s, epoch=4, train loss=0.4465, train acc=0.84, val loss=0.4828, val acc=0.81, time=0.44]\n",
      "Epoch 5: 100%|██████████| 14/14 [00:00<00:00, 31.83it/s, epoch=5, train loss=0.4430, train acc=0.84, val loss=0.4791, val acc=0.81, time=0.44]\n",
      "Epoch 6: 100%|██████████| 14/14 [00:00<00:00, 31.75it/s, epoch=6, train loss=0.4410, train acc=0.84, val loss=0.4742, val acc=0.81, time=0.44]\n",
      "Epoch 7: 100%|██████████| 14/14 [00:00<00:00, 31.45it/s, epoch=7, train loss=0.4384, train acc=0.84, val loss=0.4709, val acc=0.81, time=0.45]\n",
      "Epoch 8: 100%|██████████| 14/14 [00:00<00:00, 31.55it/s, epoch=8, train loss=0.4316, train acc=0.84, val loss=0.4690, val acc=0.81, time=0.44]\n",
      "Epoch 9: 100%|██████████| 14/14 [00:00<00:00, 31.85it/s, epoch=9, train loss=0.4288, train acc=0.84, val loss=0.4657, val acc=0.81, time=0.44]\n",
      "Epoch 10: 100%|██████████| 14/14 [00:00<00:00, 31.53it/s, epoch=10, train loss=0.4280, train acc=0.84, val loss=0.4609, val acc=0.81, time=0.44]\n",
      "Epoch 11: 100%|██████████| 14/14 [00:00<00:00, 31.68it/s, epoch=11, train loss=0.4204, train acc=0.84, val loss=0.4629, val acc=0.81, time=0.44]\n",
      "Epoch 12: 100%|██████████| 14/14 [00:00<00:00, 31.84it/s, epoch=12, train loss=0.4170, train acc=0.84, val loss=0.4599, val acc=0.81, time=0.44]\n",
      "Epoch 13: 100%|██████████| 14/14 [00:00<00:00, 31.46it/s, epoch=13, train loss=0.4152, train acc=0.84, val loss=0.4525, val acc=0.81, time=0.45]\n",
      "Epoch 14: 100%|██████████| 14/14 [00:00<00:00, 31.57it/s, epoch=14, train loss=0.4212, train acc=0.83, val loss=0.4483, val acc=0.81, time=0.44]\n",
      "Epoch 15: 100%|██████████| 14/14 [00:00<00:00, 31.77it/s, epoch=15, train loss=0.4097, train acc=0.84, val loss=0.4470, val acc=0.81, time=0.44]\n",
      "Epoch 16: 100%|██████████| 14/14 [00:00<00:00, 31.82it/s, epoch=16, train loss=0.4032, train acc=0.84, val loss=0.4455, val acc=0.81, time=0.44]\n",
      "Epoch 17: 100%|██████████| 14/14 [00:00<00:00, 31.43it/s, epoch=17, train loss=0.4028, train acc=0.83, val loss=0.4402, val acc=0.81, time=0.45]\n",
      "Epoch 18: 100%|██████████| 14/14 [00:00<00:00, 31.29it/s, epoch=18, train loss=0.3961, train acc=0.84, val loss=0.4395, val acc=0.81, time=0.45]\n",
      "Epoch 19: 100%|██████████| 14/14 [00:00<00:00, 31.89it/s, epoch=19, train loss=0.3904, train acc=0.84, val loss=0.4441, val acc=0.81, time=0.44]\n",
      "Epoch 20: 100%|██████████| 14/14 [00:00<00:00, 31.95it/s, epoch=20, train loss=0.3902, train acc=0.84, val loss=0.4331, val acc=0.81, time=0.44]\n",
      "Epoch 21: 100%|██████████| 14/14 [00:00<00:00, 31.84it/s, epoch=21, train loss=0.3915, train acc=0.83, val loss=0.4294, val acc=0.81, time=0.44]\n",
      "Epoch 22: 100%|██████████| 14/14 [00:00<00:00, 31.57it/s, epoch=22, train loss=0.3871, train acc=0.84, val loss=0.4295, val acc=0.81, time=0.44]\n",
      "Epoch 23: 100%|██████████| 14/14 [00:00<00:00, 32.06it/s, epoch=23, train loss=0.3799, train acc=0.84, val loss=0.4327, val acc=0.81, time=0.44]\n",
      "Epoch 24: 100%|██████████| 14/14 [00:00<00:00, 31.78it/s, epoch=24, train loss=0.3762, train acc=0.84, val loss=0.4256, val acc=0.81, time=0.44]\n",
      "Epoch 25: 100%|██████████| 14/14 [00:00<00:00, 31.47it/s, epoch=25, train loss=0.3726, train acc=0.84, val loss=0.4248, val acc=0.81, time=0.44]\n",
      "Epoch 26: 100%|██████████| 14/14 [00:00<00:00, 31.62it/s, epoch=26, train loss=0.3730, train acc=0.84, val loss=0.4191, val acc=0.82, time=0.44]\n",
      "Epoch 27: 100%|██████████| 14/14 [00:00<00:00, 32.20it/s, epoch=27, train loss=0.3717, train acc=0.84, val loss=0.4138, val acc=0.82, time=0.44]\n",
      "Epoch 28: 100%|██████████| 14/14 [00:00<00:00, 31.65it/s, epoch=28, train loss=0.3653, train acc=0.84, val loss=0.4125, val acc=0.82, time=0.44]\n",
      "Epoch 29: 100%|██████████| 14/14 [00:00<00:00, 31.42it/s, epoch=29, train loss=0.3644, train acc=0.84, val loss=0.4092, val acc=0.83, time=0.45]\n",
      "Epoch 30: 100%|██████████| 14/14 [00:00<00:00, 31.50it/s, epoch=30, train loss=0.3562, train acc=0.85, val loss=0.4136, val acc=0.82, time=0.44]\n",
      "Epoch 31: 100%|██████████| 14/14 [00:00<00:00, 31.61it/s, epoch=31, train loss=0.3555, train acc=0.85, val loss=0.4114, val acc=0.82, time=0.44]\n",
      "Epoch 32: 100%|██████████| 14/14 [00:00<00:00, 31.63it/s, epoch=32, train loss=0.3536, train acc=0.85, val loss=0.4048, val acc=0.82, time=0.44]\n",
      "Epoch 33: 100%|██████████| 14/14 [00:00<00:00, 32.04it/s, epoch=33, train loss=0.3441, train acc=0.85, val loss=0.4050, val acc=0.83, time=0.44]\n",
      "Epoch 34: 100%|██████████| 14/14 [00:00<00:00, 31.72it/s, epoch=34, train loss=0.3523, train acc=0.84, val loss=0.4013, val acc=0.84, time=0.44]\n",
      "Epoch 35: 100%|██████████| 14/14 [00:00<00:00, 31.90it/s, epoch=35, train loss=0.3437, train acc=0.86, val loss=0.3989, val acc=0.83, time=0.44]\n",
      "Epoch 36: 100%|██████████| 14/14 [00:00<00:00, 31.41it/s, epoch=36, train loss=0.3378, train acc=0.85, val loss=0.3972, val acc=0.83, time=0.45]\n",
      "Epoch 37: 100%|██████████| 14/14 [00:00<00:00, 31.46it/s, epoch=37, train loss=0.3336, train acc=0.86, val loss=0.3980, val acc=0.83, time=0.45]\n",
      "Epoch 38: 100%|██████████| 14/14 [00:00<00:00, 31.56it/s, epoch=38, train loss=0.3291, train acc=0.86, val loss=0.4026, val acc=0.83, time=0.44]\n",
      "Epoch 39: 100%|██████████| 14/14 [00:00<00:00, 31.37it/s, epoch=39, train loss=0.3291, train acc=0.86, val loss=0.3942, val acc=0.83, time=0.45]\n",
      "Epoch 40: 100%|██████████| 14/14 [00:00<00:00, 31.77it/s, epoch=40, train loss=0.3248, train acc=0.86, val loss=0.3957, val acc=0.83, time=0.44]\n",
      "Epoch 41: 100%|██████████| 14/14 [00:00<00:00, 31.64it/s, epoch=41, train loss=0.3269, train acc=0.86, val loss=0.3864, val acc=0.84, time=0.44]\n",
      "Epoch 42: 100%|██████████| 14/14 [00:00<00:00, 31.68it/s, epoch=42, train loss=0.3223, train acc=0.86, val loss=0.3880, val acc=0.84, time=0.44]\n",
      "Epoch 43: 100%|██████████| 14/14 [00:00<00:00, 31.77it/s, epoch=43, train loss=0.3136, train acc=0.87, val loss=0.3952, val acc=0.83, time=0.44]\n",
      "Epoch 44: 100%|██████████| 14/14 [00:00<00:00, 31.84it/s, epoch=44, train loss=0.3152, train acc=0.86, val loss=0.3872, val acc=0.84, time=0.44]\n",
      "Epoch 45: 100%|██████████| 14/14 [00:00<00:00, 31.49it/s, epoch=45, train loss=0.3112, train acc=0.87, val loss=0.3889, val acc=0.83, time=0.44]\n",
      "Epoch 46: 100%|██████████| 14/14 [00:00<00:00, 31.59it/s, epoch=46, train loss=0.3109, train acc=0.87, val loss=0.3827, val acc=0.84, time=0.44]\n",
      "Epoch 47: 100%|██████████| 14/14 [00:00<00:00, 31.65it/s, epoch=47, train loss=0.3057, train acc=0.87, val loss=0.3878, val acc=0.83, time=0.44]\n",
      "Epoch 48: 100%|██████████| 14/14 [00:00<00:00, 31.29it/s, epoch=48, train loss=0.3064, train acc=0.87, val loss=0.3892, val acc=0.83, time=0.45]\n",
      "Epoch 49: 100%|██████████| 14/14 [00:00<00:00, 31.48it/s, epoch=49, train loss=0.3074, train acc=0.87, val loss=0.3779, val acc=0.84, time=0.44]\n",
      "Epoch 50: 100%|██████████| 14/14 [00:00<00:00, 31.28it/s, epoch=50, train loss=0.3022, train acc=0.87, val loss=0.3775, val acc=0.84, time=0.45]\n",
      "Epoch 51: 100%|██████████| 14/14 [00:00<00:00, 31.98it/s, epoch=51, train loss=0.2970, train acc=0.88, val loss=0.3825, val acc=0.84, time=0.44]\n",
      "Epoch 52: 100%|██████████| 14/14 [00:00<00:00, 31.07it/s, epoch=52, train loss=0.2976, train acc=0.87, val loss=0.3759, val acc=0.84, time=0.45]\n",
      "Epoch 53: 100%|██████████| 14/14 [00:00<00:00, 31.79it/s, epoch=53, train loss=0.2957, train acc=0.87, val loss=0.3742, val acc=0.84, time=0.44]\n",
      "Epoch 54: 100%|██████████| 14/14 [00:00<00:00, 31.60it/s, epoch=54, train loss=0.2942, train acc=0.87, val loss=0.3752, val acc=0.84, time=0.44]\n",
      "Epoch 55: 100%|██████████| 14/14 [00:00<00:00, 31.38it/s, epoch=55, train loss=0.2896, train acc=0.88, val loss=0.3805, val acc=0.84, time=0.45]\n",
      "Epoch 56: 100%|██████████| 14/14 [00:00<00:00, 31.35it/s, epoch=56, train loss=0.2893, train acc=0.88, val loss=0.3785, val acc=0.84, time=0.45]\n",
      "Epoch 57: 100%|██████████| 14/14 [00:00<00:00, 31.44it/s, epoch=57, train loss=0.2857, train acc=0.87, val loss=0.3735, val acc=0.84, time=0.45]\n",
      "Epoch 58: 100%|██████████| 14/14 [00:00<00:00, 31.67it/s, epoch=58, train loss=0.2835, train acc=0.88, val loss=0.3756, val acc=0.84, time=0.44]\n",
      "Epoch 59: 100%|██████████| 14/14 [00:00<00:00, 31.55it/s, epoch=59, train loss=0.2831, train acc=0.88, val loss=0.3708, val acc=0.85, time=0.44]\n",
      "Epoch 60: 100%|██████████| 14/14 [00:00<00:00, 31.20it/s, epoch=60, train loss=0.2783, train acc=0.88, val loss=0.3751, val acc=0.84, time=0.45]\n",
      "Epoch 61: 100%|██████████| 14/14 [00:00<00:00, 31.15it/s, epoch=61, train loss=0.2776, train acc=0.88, val loss=0.3693, val acc=0.85, time=0.45]\n",
      "Epoch 62: 100%|██████████| 14/14 [00:00<00:00, 25.81it/s, epoch=62, train loss=0.2767, train acc=0.88, val loss=0.3766, val acc=0.84, time=0.54]\n",
      "Epoch 63: 100%|██████████| 14/14 [00:00<00:00, 31.23it/s, epoch=63, train loss=0.2727, train acc=0.88, val loss=0.3720, val acc=0.84, time=0.45]\n",
      "Epoch 64: 100%|██████████| 14/14 [00:00<00:00, 31.30it/s, epoch=64, train loss=0.2727, train acc=0.88, val loss=0.3752, val acc=0.84, time=0.45]\n",
      "Epoch 65: 100%|██████████| 14/14 [00:00<00:00, 31.48it/s, epoch=65, train loss=0.2694, train acc=0.88, val loss=0.3676, val acc=0.85, time=0.44]\n",
      "Epoch 66: 100%|██████████| 14/14 [00:00<00:00, 31.89it/s, epoch=66, train loss=0.2654, train acc=0.89, val loss=0.3924, val acc=0.84, time=0.44]\n",
      "Epoch 67: 100%|██████████| 14/14 [00:00<00:00, 31.66it/s, epoch=67, train loss=0.2608, train acc=0.89, val loss=0.3738, val acc=0.84, time=0.44]\n",
      "Epoch 68: 100%|██████████| 14/14 [00:00<00:00, 31.33it/s, epoch=68, train loss=0.2615, train acc=0.89, val loss=0.3685, val acc=0.85, time=0.45]\n",
      "Epoch 69: 100%|██████████| 14/14 [00:00<00:00, 31.61it/s, epoch=69, train loss=0.2618, train acc=0.89, val loss=0.3688, val acc=0.85, time=0.44]\n",
      "Epoch 70: 100%|██████████| 14/14 [00:00<00:00, 31.34it/s, epoch=70, train loss=0.2593, train acc=0.89, val loss=0.3714, val acc=0.84, time=0.45]\n",
      "Epoch 71: 100%|██████████| 14/14 [00:00<00:00, 31.78it/s, epoch=71, train loss=0.2517, train acc=0.89, val loss=0.3804, val acc=0.84, time=0.44]\n",
      "Epoch 72: 100%|██████████| 14/14 [00:00<00:00, 31.63it/s, epoch=72, train loss=0.2529, train acc=0.89, val loss=0.3730, val acc=0.84, time=0.44]\n",
      "Epoch 73: 100%|██████████| 14/14 [00:00<00:00, 31.25it/s, epoch=73, train loss=0.2485, train acc=0.90, val loss=0.3772, val acc=0.84, time=0.45]\n",
      "Epoch 74: 100%|██████████| 14/14 [00:00<00:00, 31.68it/s, epoch=74, train loss=0.2463, train acc=0.90, val loss=0.3675, val acc=0.85, time=0.44]\n",
      "Epoch 75: 100%|██████████| 14/14 [00:00<00:00, 31.46it/s, epoch=75, train loss=0.2472, train acc=0.90, val loss=0.3641, val acc=0.85, time=0.45]\n",
      "Epoch 76: 100%|██████████| 14/14 [00:00<00:00, 31.45it/s, epoch=76, train loss=0.2470, train acc=0.89, val loss=0.3638, val acc=0.85, time=0.45]\n",
      "Epoch 77: 100%|██████████| 14/14 [00:00<00:00, 31.50it/s, epoch=77, train loss=0.2383, train acc=0.90, val loss=0.3913, val acc=0.84, time=0.45]\n",
      "Epoch 78: 100%|██████████| 14/14 [00:00<00:00, 31.58it/s, epoch=78, train loss=0.2405, train acc=0.90, val loss=0.3633, val acc=0.85, time=0.44]\n",
      "Epoch 79: 100%|██████████| 14/14 [00:00<00:00, 31.18it/s, epoch=79, train loss=0.2394, train acc=0.90, val loss=0.3758, val acc=0.84, time=0.45]\n",
      "Epoch 80: 100%|██████████| 14/14 [00:00<00:00, 31.40it/s, epoch=80, train loss=0.2364, train acc=0.90, val loss=0.3659, val acc=0.85, time=0.45]\n",
      "Epoch 81: 100%|██████████| 14/14 [00:00<00:00, 31.66it/s, epoch=81, train loss=0.2321, train acc=0.91, val loss=0.3855, val acc=0.84, time=0.44]\n",
      "Epoch 82: 100%|██████████| 14/14 [00:00<00:00, 31.67it/s, epoch=82, train loss=0.2323, train acc=0.90, val loss=0.3762, val acc=0.84, time=0.44]\n",
      "Epoch 83: 100%|██████████| 14/14 [00:00<00:00, 31.50it/s, epoch=83, train loss=0.2297, train acc=0.90, val loss=0.3628, val acc=0.85, time=0.45]\n",
      "Epoch 84: 100%|██████████| 14/14 [00:00<00:00, 31.53it/s, epoch=84, train loss=0.2240, train acc=0.91, val loss=0.3683, val acc=0.84, time=0.44]\n",
      "Epoch 85: 100%|██████████| 14/14 [00:00<00:00, 31.58it/s, epoch=85, train loss=0.2262, train acc=0.90, val loss=0.3735, val acc=0.84, time=0.44]\n",
      "Epoch 86: 100%|██████████| 14/14 [00:00<00:00, 31.40it/s, epoch=86, train loss=0.2256, train acc=0.91, val loss=0.3931, val acc=0.84, time=0.45]\n",
      "Epoch 87: 100%|██████████| 14/14 [00:00<00:00, 31.32it/s, epoch=87, train loss=0.2237, train acc=0.91, val loss=0.3661, val acc=0.84, time=0.45]\n",
      "Epoch 88: 100%|██████████| 14/14 [00:00<00:00, 31.68it/s, epoch=88, train loss=0.2215, train acc=0.91, val loss=0.3623, val acc=0.85, time=0.44]\n",
      "Epoch 89: 100%|██████████| 14/14 [00:00<00:00, 31.72it/s, epoch=89, train loss=0.2181, train acc=0.91, val loss=0.3693, val acc=0.85, time=0.44]\n",
      "Epoch 90: 100%|██████████| 14/14 [00:00<00:00, 31.75it/s, epoch=90, train loss=0.2111, train acc=0.91, val loss=0.3695, val acc=0.85, time=0.44]\n",
      "Epoch 91: 100%|██████████| 14/14 [00:00<00:00, 31.38it/s, epoch=91, train loss=0.2111, train acc=0.91, val loss=0.3638, val acc=0.85, time=0.45]\n",
      "Epoch 92: 100%|██████████| 14/14 [00:00<00:00, 31.49it/s, epoch=92, train loss=0.2080, train acc=0.92, val loss=0.3658, val acc=0.84, time=0.45]\n",
      "Epoch 93: 100%|██████████| 14/14 [00:00<00:00, 30.78it/s, epoch=93, train loss=0.2073, train acc=0.92, val loss=0.3641, val acc=0.84, time=0.46]\n",
      "Epoch 94: 100%|██████████| 14/14 [00:00<00:00, 31.23it/s, epoch=94, train loss=0.2047, train acc=0.92, val loss=0.3704, val acc=0.84, time=0.45]\n",
      "Epoch 95: 100%|██████████| 14/14 [00:00<00:00, 31.23it/s, epoch=95, train loss=0.2047, train acc=0.92, val loss=0.3660, val acc=0.84, time=0.45]\n",
      "Epoch 96: 100%|██████████| 14/14 [00:00<00:00, 31.22it/s, epoch=96, train loss=0.2019, train acc=0.92, val loss=0.3646, val acc=0.84, time=0.45]\n",
      "Epoch 97: 100%|██████████| 14/14 [00:00<00:00, 30.74it/s, epoch=97, train loss=0.1983, train acc=0.92, val loss=0.3624, val acc=0.85, time=0.45]\n",
      "Epoch 98: 100%|██████████| 14/14 [00:00<00:00, 29.43it/s, epoch=98, train loss=0.1955, train acc=0.92, val loss=0.3786, val acc=0.84, time=0.48]\n",
      "Epoch 99: 100%|██████████| 14/14 [00:00<00:00, 30.91it/s, epoch=99, train loss=0.1985, train acc=0.92, val loss=0.3598, val acc=0.86, time=0.45]\n",
      "Prediction: 100%|██████████| 18/18 [00:00<00:00, 73.95it/s]\n"
     ]
    }
   ],
   "source": [
    "for epoch in range(num_epochs):\n",
    "    start = time.time()\n",
    "    train_loss, val_losses = 0, 0\n",
    "    train_acc, val_acc = 0, 0\n",
    "    n, m = 0, 0\n",
    "    with tqdm(total=len(train_iter), desc='Epoch %d' % epoch) as pbar:\n",
    "        for feature, label in train_iter:\n",
    "            n += 1\n",
    "            net.zero_grad()\n",
    "            feature = Variable(feature.cuda())\n",
    "            label = Variable(label.cuda())\n",
    "            score = net(feature)\n",
    "            loss = loss_function(score, label)\n",
    "            loss.backward()\n",
    "            optimizer.step()\n",
    "            train_acc += accuracy_score(torch.argmax(score.cpu().data,dim=1), label.cpu())\n",
    "            # print(label.shape)\n",
    "            # print(torch.argmax(score.cpu().data,dim=1).shape)\n",
    "            # exit(0)\n",
    "            train_loss += loss\n",
    "\n",
    "            pbar.set_postfix({'epoch': '%d' % (epoch),\n",
    "                                  'train loss': '%.4f' % (train_loss.data / n),\n",
    "                                  'train acc': '%.2f' % (train_acc / n)\n",
    "                                  })\n",
    "            pbar.update(1)\n",
    "\n",
    "        with torch.no_grad():\n",
    "            for val_feature, val_label in val_iter:\n",
    "                m += 1\n",
    "                val_feature = val_feature.cuda()\n",
    "                val_label = val_label.cuda()\n",
    "                val_score = net(val_feature)\n",
    "                val_loss = loss_function(val_score, val_label)\n",
    "                val_acc += accuracy_score(torch.argmax(val_score.cpu().data, dim=1), val_label.cpu())\n",
    "                val_losses += val_loss\n",
    "        end = time.time()\n",
    "        runtime = end - start\n",
    "        pbar.set_postfix({'epoch': '%d' % (epoch),\n",
    "                              'train loss': '%.4f' % (train_loss.data / n),\n",
    "                              'train acc': '%.2f' % (train_acc / n),\n",
    "                              'val loss': '%.4f' % (val_losses.data / m),\n",
    "                              'val acc': '%.2f' % (val_acc / m),\n",
    "                              'time': '%.2f' % (runtime)})\n",
    "\n",
    "        # tqdm.write('{epoch: %d, train loss: %.4f, train acc: %.2f, val loss: %.4f, val acc: %.2f, time: %.2f}' %\n",
    "        #       (epoch, train_loss.data / n, train_acc / n, val_losses.data / m, val_acc / m, runtime))\n",
    "\n",
    "test_pred = []\n",
    "with torch.no_grad():\n",
    "    with tqdm(total=len(test_iter), desc='Prediction') as pbar:\n",
    "        for test_feature, in test_iter:\n",
    "                test_feature = test_feature.cuda()\n",
    "                test_score = net(test_feature)\n",
    "                # test_pred.extent\n",
    "                test_pred.extend(torch.argmax(test_score.cpu().data, dim=1).numpy().tolist())\n",
    "                pbar.update(1)\n",
    "\n",
    "# result_output = pd.DataFrame(data={\"id\": test[\"id\"], \"sentiment\": test_pred})\n",
    "# result_output.to_csv(\"./result/cnn.csv\", index=False, quoting=3)\n",
    "# logging.info('result saved!')"
   ],
   "metadata": {
    "collapsed": false
   }
  },
  {
   "cell_type": "code",
   "execution_count": 6,
   "outputs": [],
   "source": [
    "# 模型保存\n",
    "torch.save(net, 'model_cnn.pkl')\n",
    "# 模型加载\n",
    "# model = torch.load('model_cnn.pkl')\n",
    "\n",
    "\n"
   ],
   "metadata": {
    "collapsed": false
   }
  },
  {
   "cell_type": "code",
   "execution_count": 7,
   "outputs": [],
   "source": [
    "import numpy as np\n",
    "import torch\n",
    "import pandas as pd\n",
    "# import numpy as np\n",
    "from torch import nn\n",
    "from torch.nn import functional as F\n",
    "\n",
    "\n",
    "\n",
    "\n",
    "from sklearn.model_selection import train_test_split\n",
    "from sklearn.metrics import accuracy_score,  f1_score\n",
    "import xgboost as xgb\n",
    "from sklearn.metrics import precision_score,recall_score,roc_auc_score,roc_curve\n",
    "import pickle\n",
    "\n",
    "\n",
    "def metrics_sklearn( y_pred_,y_valid):\n",
    "    \"\"\"模型对验证集和测试集结果的评分\"\"\"\n",
    "    # 准确率\n",
    "    accuracy = accuracy_score(y_valid, y_pred_)\n",
    "    print('Accuracy：%.6f%%' % (accuracy * 100))\n",
    "\n",
    "    # 精准率\n",
    "    precision = precision_score(y_valid, y_pred_)\n",
    "    print('Precision：%.6f%%' % (precision * 100))\n",
    "\n",
    "    # 召回率\n",
    "    recall = recall_score(y_valid, y_pred_)\n",
    "    # print(y_valid)\n",
    "    # print('-----------------------------')\n",
    "    # print(y_pred_)\n",
    "    print('Recall：%.6f%%' % (recall * 100))\n",
    "\n",
    "    # F1值\n",
    "    f1 = f1_score(y_valid, y_pred_)\n",
    "    print('F1：%.6f%%' % (f1 * 100))\n",
    "\n",
    "    # auc曲线下面积\n",
    "    auc = roc_auc_score(y_valid, y_pred_)\n",
    "    print('AUC：%.6f%%' % (auc * 100))\n",
    "\n",
    "    # ks值\n",
    "    fpr, tpr, thresholds = roc_curve(y_valid, y_pred_)\n",
    "    ks = max(abs(fpr - tpr))\n",
    "    print('KS：%.6f%%' % (ks * 100))\n"
   ],
   "metadata": {
    "collapsed": false
   }
  },
  {
   "cell_type": "code",
   "execution_count": 8,
   "outputs": [],
   "source": [
    "# 启用推理模式\n",
    "net.eval()\n",
    "\n",
    "# 前向传播\n",
    "val_features = val_features.cuda()\n",
    "\n",
    "with torch.no_grad():\n",
    "    output = net(val_features)\n",
    "\n",
    "# 将输出转换为概率\n",
    "probabilities = torch.nn.functional.softmax(output, dim=1)\n",
    "\n",
    "# 获取预测结果\n",
    "_, y_pred_cnn = torch.max(probabilities, 1)"
   ],
   "metadata": {
    "collapsed": false
   }
  },
  {
   "cell_type": "code",
   "execution_count": 9,
   "outputs": [
    {
     "name": "stdout",
     "output_type": "stream",
     "text": [
      "cpu\n"
     ]
    }
   ],
   "source": [
    "val_labels = val_labels.cpu()\n",
    "y_pred_cnn = y_pred_cnn.cpu()\n",
    "print(val_labels.device)"
   ],
   "metadata": {
    "collapsed": false
   }
  },
  {
   "cell_type": "code",
   "execution_count": 10,
   "outputs": [
    {
     "name": "stdout",
     "output_type": "stream",
     "text": [
      "Accuracy：85.596708%\n",
      "Precision：71.034483%\n",
      "Recall：38.007380%\n",
      "F1：49.519231%\n",
      "AUC：67.234524%\n",
      "KS：34.469048%\n"
     ]
    }
   ],
   "source": [
    "metrics_sklearn(y_pred_cnn, np.array(val_labels))"
   ],
   "metadata": {
    "collapsed": false
   }
  },
  {
   "cell_type": "code",
   "execution_count": 10,
   "outputs": [],
   "source": [],
   "metadata": {
    "collapsed": false
   }
  }
 ],
 "metadata": {
  "kernelspec": {
   "display_name": "Python 3",
   "language": "python",
   "name": "python3"
  },
  "language_info": {
   "codemirror_mode": {
    "name": "ipython",
    "version": 2
   },
   "file_extension": ".py",
   "mimetype": "text/x-python",
   "name": "python",
   "nbconvert_exporter": "python",
   "pygments_lexer": "ipython2",
   "version": "2.7.6"
  }
 },
 "nbformat": 4,
 "nbformat_minor": 0
}
