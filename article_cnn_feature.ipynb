{
 "cells": [
  {
   "cell_type": "code",
   "execution_count": 11,
   "metadata": {
    "collapsed": true
   },
   "outputs": [],
   "source": [
    "import logging\n",
    "import os\n",
    "import sys\n",
    "import pickle\n",
    "import time\n",
    "\n",
    "\n",
    "import pandas as pd\n",
    "import torch\n",
    "from torch import nn\n",
    "from torch.nn import functional as F\n",
    "from torch import optim\n",
    "from torch.autograd import Variable\n",
    "from tqdm import tqdm\n",
    "\n",
    "\n",
    "from sklearn.metrics import accuracy_score\n",
    "\n",
    "\n",
    "# test = pd.read_csv(r\"corpus\\imdb\\testData.tsv\", header=0, delimiter=\"\\t\", quoting=3)\n",
    "\n",
    "\n",
    "class SentimentNet(nn.Module):\n",
    "    def __init__(self, embed_size, num_filter, filter_size, weight, labels, use_gpu, **kwargs):\n",
    "        super(SentimentNet, self).__init__(**kwargs)\n",
    "\n",
    "        self.use_gpu = use_gpu\n",
    "        # 话说这个不会是我前面做的单词到词向量的映射表吧？？ 答：不用怀疑，正是\n",
    "        self.embedding = nn.Embedding.from_pretrained(weight)\n",
    "        # 防止嵌入层在训练中更新\n",
    "        self.embedding.weight.requires_grad = False\n",
    "\n",
    "        # 啥玩意儿这是？\n",
    "        self.conv1d = nn.Conv1d(embed_size, num_filter, filter_size, padding=1)\n",
    "        self.activate = F.relu\n",
    "        self.decoder = nn.Linear(num_filter, labels)\n",
    "\n",
    "\n",
    "    def forward(self, inputs):\n",
    "        embeddings = self.embedding(inputs)\n",
    "\n",
    "        convolution = self.activate(self.conv1d(embeddings.permute([0, 2, 1])))\n",
    "        pooling = F.max_pool1d(convolution, kernel_size=convolution.shape[2])\n",
    "        outputs = self.decoder(pooling.squeeze(dim=2))\n",
    "        # print(outputs)\n",
    "        return outputs\n",
    "\n"
   ]
  },
  {
   "cell_type": "code",
   "execution_count": 12,
   "outputs": [
    {
     "name": "stdout",
     "output_type": "stream",
     "text": [
      "torch.Size([4860, 628])\n"
     ]
    }
   ],
   "source": [
    "num_epochs = 10\n",
    "embed_size = 628\n",
    "num_filter = 32\n",
    "filter_size = 3\n",
    "bidirectional = True\n",
    "batch_size = 256\n",
    "labels = 2\n",
    "lr = 0.8\n",
    "device = torch.device('cuda:0')\n",
    "use_gpu = True\n",
    "\n",
    "model = torch.load('model_cnn.pkl')\n",
    "\n",
    "pickle_file = 'depression_glove_42B_300d.pkl'\n",
    "[train_features, train_labels, val_features, val_labels, test_features, weight, word_to_idx, idx_to_word, vocab] = pickle.load(open(pickle_file, 'rb'))\n",
    "\n",
    "train_data = torch.concat([train_features, val_features], axis=0)\n",
    "labels = torch.concat([train_labels, val_labels], axis=0)\n",
    "\n",
    "print(train_data.shape)\n",
    "val_set = torch.utils.data.TensorDataset(train_data, labels)\n",
    "val_iter = torch.utils.data.DataLoader(val_set, batch_size=batch_size, shuffle=False)"
   ],
   "metadata": {
    "collapsed": false
   }
  },
  {
   "cell_type": "code",
   "execution_count": 13,
   "outputs": [
    {
     "data": {
      "text/plain": "torch.Size([4860])"
     },
     "execution_count": 13,
     "metadata": {},
     "output_type": "execute_result"
    }
   ],
   "source": [
    "labels.shape"
   ],
   "metadata": {
    "collapsed": false
   }
  },
  {
   "cell_type": "code",
   "execution_count": 14,
   "outputs": [
    {
     "name": "stdout",
     "output_type": "stream",
     "text": [
      "\n",
      "embedding\n",
      "conv1d\n",
      "decoder\n"
     ]
    },
    {
     "data": {
      "text/plain": "<torch.utils.hooks.RemovableHandle at 0x27fcb0248b0>"
     },
     "execution_count": 14,
     "metadata": {},
     "output_type": "execute_result"
    }
   ],
   "source": [
    "features_layer = []\n",
    "output_layer = []\n",
    "def hook(module, input, output):\n",
    "    features_layer.append(input)\n",
    "    output_layer.append(output)\n",
    "    return None\n",
    "\n",
    "\n",
    "# 确定想要提取出的中间层名字\n",
    "for (name, module) in model.named_modules():\n",
    "    print(name)\n",
    "# #  设置钩子\n",
    "model.decoder.register_forward_hook(hook)\n",
    "# a = torch.randn((3,1,28,28))\n",
    "# net(a)\n",
    "# print(features)\n"
   ],
   "metadata": {
    "collapsed": false
   }
  },
  {
   "cell_type": "code",
   "execution_count": 15,
   "outputs": [],
   "source": [
    "import torch\n",
    "import csv\n",
    "\n",
    "# model = torch.nn.Sequential(*list(model.children())[:-1])\n"
   ],
   "metadata": {
    "collapsed": false
   }
  },
  {
   "cell_type": "code",
   "execution_count": 16,
   "outputs": [
    {
     "data": {
      "text/plain": "torch.Size([4860, 628])"
     },
     "execution_count": 16,
     "metadata": {},
     "output_type": "execute_result"
    }
   ],
   "source": [
    "train_data.shape"
   ],
   "metadata": {
    "collapsed": false
   }
  },
  {
   "cell_type": "code",
   "execution_count": 17,
   "outputs": [
    {
     "data": {
      "text/plain": "torch.Size([4860])"
     },
     "execution_count": 17,
     "metadata": {},
     "output_type": "execute_result"
    }
   ],
   "source": [
    "labels.shape"
   ],
   "metadata": {
    "collapsed": false
   }
  },
  {
   "cell_type": "code",
   "execution_count": 18,
   "outputs": [
    {
     "data": {
      "text/plain": "4860"
     },
     "execution_count": 18,
     "metadata": {},
     "output_type": "execute_result"
    }
   ],
   "source": [
    "len(labels)"
   ],
   "metadata": {
    "collapsed": false
   }
  },
  {
   "cell_type": "code",
   "execution_count": 19,
   "outputs": [],
   "source": [
    "# 设置模型为评估模式\n",
    "model.eval()\n",
    "\n",
    "# 4. 提取特征并写入CSV文件\n",
    "with open('features.csv', 'w', newline='') as csvfile:\n",
    "    csvfile_labels = open('labels.csv', 'w', newline='')\n",
    "    writer = csv.writer(csvfile)\n",
    "    writer_label = csv.writer(csvfile_labels)\n",
    "\n",
    "    # # 写入表头\n",
    "    # header = [ 'Features','Label']\n",
    "    # writer.writerow(header)\n",
    "\n",
    "    # 遍历数据集并提取特征\n",
    "    for images, labels in val_iter:\n",
    "        images = images.to('cuda:0')\n",
    "        features = model(images)\n",
    "        # print(features.shape)\n",
    "\n",
    "        if features.shape[0] == 252:\n",
    "            features = features_layer[0][0][:252,:]\n",
    "            # print('到了')\n",
    "        else:\n",
    "            features = features_layer[0][0]\n",
    "        # features = features_layer[0][0]\n",
    "        # print(features.shape)\n",
    "\n",
    "        features = features.tolist()\n",
    "        labels = labels.tolist()\n",
    "        for i in range(len(features)):\n",
    "            writer.writerow(features[i])\n",
    "            writer_label.writerow(str(labels[i]))\n",
    "\n",
    "\n"
   ],
   "metadata": {
    "collapsed": false
   }
  },
  {
   "cell_type": "code",
   "execution_count": 20,
   "outputs": [
    {
     "name": "stdout",
     "output_type": "stream",
     "text": [
      "(4860, 128)\n",
      "(4860, 1)\n"
     ]
    }
   ],
   "source": [
    "temp_train = pd.read_csv('features.csv',header=None)\n",
    "temp_label = pd.read_csv('labels.csv',header=None)\n",
    "print(temp_train.shape)\n",
    "print(temp_label.shape)"
   ],
   "metadata": {
    "collapsed": false
   }
  },
  {
   "cell_type": "code",
   "execution_count": 20,
   "outputs": [],
   "source": [],
   "metadata": {
    "collapsed": false
   }
  }
 ],
 "metadata": {
  "kernelspec": {
   "display_name": "Python 3",
   "language": "python",
   "name": "python3"
  },
  "language_info": {
   "codemirror_mode": {
    "name": "ipython",
    "version": 2
   },
   "file_extension": ".py",
   "mimetype": "text/x-python",
   "name": "python",
   "nbconvert_exporter": "python",
   "pygments_lexer": "ipython2",
   "version": "2.7.6"
  }
 },
 "nbformat": 4,
 "nbformat_minor": 0
}
