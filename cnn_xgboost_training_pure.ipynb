{
 "cells": [
  {
   "cell_type": "code",
   "execution_count": 6,
   "outputs": [],
   "source": [
    "import pandas as pd\n",
    "# import numpy as np\n",
    "import pandas as pd\n",
    "from sklearn.model_selection import train_test_split, GridSearchCV\n",
    "from sklearn.metrics import accuracy_score, roc_auc_score, f1_score\n",
    "import xgboost as xgb\n",
    "from xgboost import XGBClassifier, plot_importance\n",
    "import warnings\n",
    "from sklearn.metrics import precision_score,recall_score,roc_auc_score,roc_curve\n",
    "\n"
   ],
   "metadata": {
    "collapsed": false
   }
  },
  {
   "cell_type": "code",
   "execution_count": 7,
   "outputs": [],
   "source": [
    "\n",
    "\n",
    "def from_data_x():\n",
    "    data = pd.read_csv('features.csv',header=None)\n",
    "    return data.to_numpy()\n",
    "def from_data_y():\n",
    "    labels = pd.read_csv('labels.csv',header=None)\n",
    "    return labels.to_numpy()\n",
    "\n",
    "\n",
    "# 假设data是包含数据的DataFrame，target是包含标签的Series\n",
    "X = from_data_x()  # 特征数据\n",
    "y = from_data_y()  # 标签数据\n",
    "\n",
    "# 划分训练集和测试集\n",
    "X_train, X_test, y_train, y_test = train_test_split(X, y, test_size=0.2, random_state=120, shuffle=False)\n",
    "\n",
    "\n"
   ],
   "metadata": {
    "collapsed": false
   }
  },
  {
   "cell_type": "code",
   "execution_count": 8,
   "outputs": [
    {
     "name": "stdout",
     "output_type": "stream",
     "text": [
      "0.8274176954732511\n"
     ]
    }
   ],
   "source": [
    "count = 0\n",
    "for i in range(len(y_test)):\n",
    "    if y_test[i] == 1:\n",
    "        count += 1\n",
    "\n",
    "\n",
    "print(1-count/len(y_test))"
   ],
   "metadata": {
    "collapsed": false
   }
  },
  {
   "cell_type": "code",
   "execution_count": 9,
   "outputs": [
    {
     "name": "stdout",
     "output_type": "stream",
     "text": [
      "Accuracy：79.552469%\n",
      "Precision：13.095238%\n",
      "Recall：3.278689%\n",
      "F1：5.244338%\n",
      "AUC：49.370149%\n",
      "KS：1.259701%\n"
     ]
    }
   ],
   "source": [
    "\n",
    "def FP_TP_ids(model=None):\n",
    "    if model == None:\n",
    "        print('未设置模型')\n",
    "        return None\n",
    "    y_pred_all = model.predict(X)\n",
    "    if len(y_pred_all) != len(y):\n",
    "        print('标签不匹配')\n",
    "        return None\n",
    "    ids_list = []\n",
    "    for i in range(len(y)):\n",
    "        if y_pred_all[i] == 1:\n",
    "            ids_list.append(i)\n",
    "\n",
    "    return ids_list\n",
    "\n",
    "ids_list =  []\n",
    "\n",
    "\n",
    "def model_fit():\n",
    "    \"\"\"模型训练\"\"\"\n",
    "    # XGBoost训练过程，下面的参数是调试出来的最佳参数组合\n",
    "    model = XGBClassifier(n_estimators=4, max_depth=11, min_child_weight=1, gamma=0.3, colsample_bytree=1, subsample=1,\n",
    "                          reg_alpha=0.1, reg_lambda=1, learning_rate=0.25)\n",
    "    # model = RandomForestClassifier(n_estimators=200)\n",
    "\n",
    "    # model = AdaBoostClassifier(random_state=37)\n",
    "    model.fit(X_train, y_train)\n",
    "\n",
    "    # 对验证集进行预测——类别\n",
    "    y_pred = model.predict(X_test)\n",
    "    # y_pred = model.predict(X_train)\n",
    "    y_test_ = y_test\n",
    "    y_test_ = y_test_.T\n",
    "\n",
    "\n",
    "\n",
    "    y_test_ = y_test_.T\n",
    "    # 对验证集进行预测——概率\n",
    "    y_pred_proba = model.predict_proba(X_test)\n",
    "    # print(y_pred_proba)\n",
    "    # 结果类别是1的概率\n",
    "    y_pred_proba_ = []\n",
    "    for i in y_pred_proba.tolist():\n",
    "        exit(0)\n",
    "        y_pred_proba_.append(i[1])\n",
    "    # print('y_pred_proba：', y_pred_proba_)\n",
    "\n",
    "    # 模型对验证集预测结果评分\n",
    "    metrics_sklearn(y_pred, y_test)\n",
    "\n",
    "    # 模型特征重要性提取、展示和保存\n",
    "    # feature_importance_selected(model)\n",
    "\n",
    "    return model\n",
    "\n",
    "\n",
    "def metrics_sklearn(y_pred_, y_valid):\n",
    "    \"\"\"模型对验证集和测试集结果的评分\"\"\"\n",
    "    # 准确率\n",
    "    accuracy = accuracy_score(y_valid, y_pred_)\n",
    "    print('Accuracy：%.6f%%' % (accuracy * 100))\n",
    "\n",
    "    # 精准率\n",
    "    precision = precision_score(y_valid, y_pred_)\n",
    "    print('Precision：%.6f%%' % (precision * 100))\n",
    "\n",
    "    # 召回率\n",
    "    recall = recall_score(y_valid, y_pred_)\n",
    "    # print(y_valid)\n",
    "    # print('-----------------------------')\n",
    "    # print(y_pred_)\n",
    "    print('Recall：%.6f%%' % (recall * 100))\n",
    "\n",
    "    # F1值\n",
    "    f1 = f1_score(y_valid, y_pred_)\n",
    "    print('F1：%.6f%%' % (f1 * 100))\n",
    "\n",
    "    # auc曲线下面积\n",
    "    auc = roc_auc_score(y_valid, y_pred_)\n",
    "    print('AUC：%.6f%%' % (auc * 100))\n",
    "\n",
    "    # ks值\n",
    "    fpr, tpr, thresholds = roc_curve(y_valid, y_pred_)\n",
    "    ks = max(abs(fpr - tpr))\n",
    "    print('KS：%.6f%%' % (ks * 100))\n",
    "\n",
    "\n",
    "def model_save_type(clf_model):\n",
    "    # 模型训练完成后做持久化，模型保存为model模式，便于调用预测\n",
    "    clf_model.save_model('xgboost_classifier_model.model')\n",
    "\n",
    "    # 模型保存为文本格式，便于分析、优化和提供可解释性\n",
    "    clf = clf_model.get_booster()\n",
    "    clf.dump_model('dump.txt')\n",
    "\n",
    "\n",
    "model_xgbclf = model_fit()"
   ],
   "metadata": {
    "collapsed": false
   }
  },
  {
   "cell_type": "code",
   "execution_count": 9,
   "outputs": [],
   "source": [],
   "metadata": {
    "collapsed": false
   }
  }
 ],
 "metadata": {
  "kernelspec": {
   "display_name": "Python 3",
   "language": "python",
   "name": "python3"
  },
  "language_info": {
   "codemirror_mode": {
    "name": "ipython",
    "version": 2
   },
   "file_extension": ".py",
   "mimetype": "text/x-python",
   "name": "python",
   "nbconvert_exporter": "python",
   "pygments_lexer": "ipython2",
   "version": "2.7.6"
  }
 },
 "nbformat": 4,
 "nbformat_minor": 0
}
