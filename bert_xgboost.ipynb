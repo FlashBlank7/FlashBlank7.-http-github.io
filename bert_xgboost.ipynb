{
 "cells": [
  {
   "cell_type": "code",
   "execution_count": 1,
   "metadata": {
    "collapsed": true
   },
   "outputs": [],
   "source": [
    "import pandas as pd\n",
    "# import numpy as np\n",
    "import pandas as pd\n",
    "import matplotlib.pyplot as plt\n",
    "from sklearn.model_selection import train_test_split, GridSearchCV\n",
    "from sklearn.metrics import accuracy_score, roc_auc_score, f1_score\n",
    "import xgboost as xgb\n",
    "from xgboost import XGBClassifier, plot_importance\n",
    "import warnings\n",
    "from sklearn.metrics import precision_score,recall_score,roc_auc_score,roc_curve\n",
    "import pickle\n",
    "\n",
    "train = pd.read_csv('bert_trad_train.csv')"
   ]
  },
  {
   "cell_type": "code",
   "execution_count": 2,
   "outputs": [
    {
     "name": "stdout",
     "output_type": "stream",
     "text": [
      "(4860, 790)\n"
     ]
    }
   ],
   "source": [
    "def from_data_x():\n",
    "    data = [eval(str_list) for str_list in train['feature']]\n",
    "    data = pd.DataFrame(data)\n",
    "    return data.to_numpy()\n",
    "\n",
    "def from_data_y():\n",
    "    labels = train['labels']\n",
    "    return labels.to_numpy()\n",
    "\n",
    "\n",
    "# 假设data是包含数据的DataFrame，target是包含标签的Series\n",
    "X = from_data_x()  # 特征数据\n",
    "y = from_data_y()  # 标签数据\n",
    "\n",
    "print(X.shape)\n",
    "\n",
    "# 划分训练集和测试集\n",
    "X_train, X_test, y_train, y_test = train_test_split(X, y, test_size=0.2, random_state=100,shuffle=True)"
   ],
   "metadata": {
    "collapsed": false
   }
  },
  {
   "cell_type": "markdown",
   "source": [],
   "metadata": {
    "collapsed": false
   }
  },
  {
   "cell_type": "code",
   "execution_count": 3,
   "outputs": [
    {
     "name": "stdout",
     "output_type": "stream",
     "text": [
      "       Depressed     Non-depressed\n",
      "train: 674             3214\n",
      "test : 156             816\n",
      "total: 830             4030\n"
     ]
    }
   ],
   "source": [
    "count = 0\n",
    "for ele in  y_train:\n",
    "    if ele == 1:\n",
    "        count += 1\n",
    "\n",
    "print('       Depressed     Non-depressed')\n",
    "print('train:',count,'           ',X_train.shape[0] - count)\n",
    "count = 0\n",
    "for ele in  y_test:\n",
    "    if ele == 1:\n",
    "        count += 1\n",
    "print('test :',count,'           ',X_test.shape[0] - count)\n",
    "count = 0\n",
    "for ele in y:\n",
    "    if ele == 1:\n",
    "        count += 1\n",
    "print('total:',count,'           ',X.shape[0] - count)"
   ],
   "metadata": {
    "collapsed": false
   }
  },
  {
   "cell_type": "code",
   "execution_count": 4,
   "outputs": [
    {
     "name": "stdout",
     "output_type": "stream",
     "text": [
      "Accuracy：82.818930%\n",
      "Precision：13.333333%\n",
      "Recall：1.282051%\n",
      "F1：2.339181%\n",
      "AUC：49.844457%\n",
      "KS：0.311086%\n"
     ]
    }
   ],
   "source": [
    "\n",
    "\n",
    "def FP_TP_ids(model=None):\n",
    "    if model == None:\n",
    "        print('未设置模型')\n",
    "        return None\n",
    "    y_pred_all = model.predict(X)\n",
    "    if len(y_pred_all) != len(y):\n",
    "        print('标签不匹配')\n",
    "        return None\n",
    "    ids_list = []\n",
    "    for i in range(len(y)):\n",
    "        if y_pred_all[i] == 1:\n",
    "            ids_list.append(i)\n",
    "\n",
    "    return ids_list\n",
    "\n",
    "ids_list =  []\n",
    "\n",
    "\n",
    "\n",
    "\n",
    "def model_fit():\n",
    "    \"\"\"模型训练\"\"\"\n",
    "    # XGBoost训练过程，下面的参数是调试出来的最佳参数组合\n",
    "    model = XGBClassifier(n_estimators= 4,max_depth= 11, min_child_weight= 1,gamma= 0.3,colsample_bytree= 1,subsample=1,reg_alpha= 0.1, reg_lambda= 1,learning_rate=0.25)\n",
    "    # model = RandomForestClassifier(n_estimators=200)\n",
    "\n",
    "    # model = AdaBoostClassifier(random_state=37)\n",
    "    model.fit(X_train, y_train)\n",
    "\n",
    "    # 对验证集进行预测——类别\n",
    "    y_pred = model.predict(X_test)\n",
    "    # y_pred = model.predict(X_train)\n",
    "\n",
    "\t# 对验证集进行预测——概率\n",
    "    y_pred_proba = model.predict_proba(X_test)\n",
    "    # print(y_pred_proba)\n",
    "    # 结果类别是1的概率\n",
    "    y_pred_proba_ = []\n",
    "    for i in y_pred_proba.tolist():\n",
    "        exit(0)\n",
    "        y_pred_proba_.append(i[1])\n",
    "    # print('y_pred_proba：', y_pred_proba_)\n",
    "\n",
    "    # 模型对验证集预测结果评分\n",
    "    # metrics_sklearn(y_pred,y_test)\n",
    "\n",
    "    metrics_sklearn(y_pred,y_test)\n",
    "    ids_list = FP_TP_ids(model = model)\n",
    "\n",
    "\n",
    "\n",
    "    f = open('TP_FP_ids_list.pkl', 'wb')\n",
    "    pickle.dump(ids_list, f)\n",
    "    f.close()\n",
    "\n",
    "    model_save(model)\n",
    "\n",
    "    # 模型特征重要性提取、展示和保存\n",
    "    # feature_importance_selected(model)\n",
    "\n",
    "    return model\n",
    "\n",
    "\n",
    "def metrics_sklearn( y_pred_,y_valid):\n",
    "    \"\"\"模型对验证集和测试集结果的评分\"\"\"\n",
    "    # 准确率\n",
    "    accuracy = accuracy_score(y_valid, y_pred_)\n",
    "    print('Accuracy：%.6f%%' % (accuracy * 100))\n",
    "\n",
    "    # 精准率\n",
    "    precision = precision_score(y_valid, y_pred_)\n",
    "    print('Precision：%.6f%%' % (precision * 100))\n",
    "\n",
    "    # 召回率\n",
    "    recall = recall_score(y_valid, y_pred_)\n",
    "    # print(y_valid)\n",
    "    # print('-----------------------------')\n",
    "    # print(y_pred_)\n",
    "    print('Recall：%.6f%%' % (recall * 100))\n",
    "\n",
    "    # F1值\n",
    "    f1 = f1_score(y_valid, y_pred_)\n",
    "    print('F1：%.6f%%' % (f1 * 100))\n",
    "\n",
    "    # auc曲线下面积\n",
    "    auc = roc_auc_score(y_valid, y_pred_)\n",
    "    print('AUC：%.6f%%' % (auc * 100))\n",
    "\n",
    "    # ks值\n",
    "    fpr, tpr, thresholds = roc_curve(y_valid, y_pred_)\n",
    "    ks = max(abs(fpr - tpr))\n",
    "    print('KS：%.6f%%' % (ks * 100))\n",
    "\n",
    "def model_save(clf_model):\n",
    "    # 模型训练完成后做持久化，模型保存为model模式，便于调用预测\n",
    "    model_path = 'xgboost_bert_model.pkl'\n",
    "    pickle.dump(clf_model,open(model_path,'wb'))\n",
    "\n",
    "\n",
    "\n",
    "\n",
    "    # # 模型保存为文本格式，便于分析、优化和提供可解释性\n",
    "    # clf = clf_model.get_booster()\n",
    "    # clf.dump_model('dump.txt')\n",
    "\n",
    "\n",
    "model_xgbclf = model_fit()\n",
    "\n"
   ],
   "metadata": {
    "collapsed": false
   }
  },
  {
   "cell_type": "code",
   "execution_count": 4,
   "outputs": [],
   "source": [],
   "metadata": {
    "collapsed": false
   }
  }
 ],
 "metadata": {
  "kernelspec": {
   "display_name": "Python 3",
   "language": "python",
   "name": "python3"
  },
  "language_info": {
   "codemirror_mode": {
    "name": "ipython",
    "version": 2
   },
   "file_extension": ".py",
   "mimetype": "text/x-python",
   "name": "python",
   "nbconvert_exporter": "python",
   "pygments_lexer": "ipython2",
   "version": "2.7.6"
  }
 },
 "nbformat": 4,
 "nbformat_minor": 0
}
