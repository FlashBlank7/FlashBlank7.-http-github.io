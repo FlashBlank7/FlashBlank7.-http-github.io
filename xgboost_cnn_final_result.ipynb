{
 "cells": [
  {
   "cell_type": "code",
   "execution_count": 122,
   "metadata": {
    "collapsed": true
   },
   "outputs": [],
   "source": [
    "import numpy as np\n",
    "import torch\n",
    "import pandas as pd\n",
    "# import numpy as np\n",
    "from torch import nn\n",
    "from torch.nn import functional as F\n",
    "\n",
    "\n",
    "\n",
    "\n",
    "from sklearn.model_selection import train_test_split\n",
    "from sklearn.metrics import accuracy_score,  f1_score\n",
    "import xgboost as xgb\n",
    "from sklearn.metrics import precision_score,recall_score,roc_auc_score,roc_curve\n",
    "import pickle\n",
    "\n",
    "\n",
    "\n",
    "def model_load(model, x_transform):\n",
    "    # 模型加载\n",
    "    clf = xgb.XGBClassifier()\n",
    "    booster = xgb.Booster()\n",
    "    booster.load_model(model)\n",
    "    clf._Booster = booster\n",
    "\n",
    "    # 数据预测\n",
    "    y_pred = [round(value) for value in clf.predict(x_transform)]\n",
    "    y_pred_proba = clf.predict_proba(x_transform)\n",
    "    print('y_pred：', y_pred)\n",
    "    print('y_pred_proba：', y_pred_proba)\n"
   ]
  },
  {
   "cell_type": "code",
   "execution_count": 123,
   "outputs": [],
   "source": [
    "\n",
    "# cnn和transformer还挺像的，\n",
    "# cnn应该代表的是基于词向量（定长输入）的类注意力机制\n",
    "\n",
    "class SentimentNet(nn.Module):\n",
    "    def __init__(self, embed_size, num_filter, filter_size, weight, labels, use_gpu, **kwargs):\n",
    "        super(SentimentNet, self).__init__(**kwargs)\n",
    "\n",
    "        self.use_gpu = use_gpu\n",
    "        # 话说这个不会是我前面做的单词到词向量的映射表吧？？ 答：不用怀疑，正是\n",
    "        self.embedding = nn.Embedding.from_pretrained(weight)\n",
    "        # 防止嵌入层在训练中更新\n",
    "        self.embedding.weight.requires_grad = False\n",
    "\n",
    "        # 啥玩意儿这是？\n",
    "        self.conv1d = nn.Conv1d(embed_size, num_filter, filter_size, padding=1)\n",
    "        self.activate = F.relu\n",
    "        self.decoder = nn.Linear(num_filter, labels)\n",
    "\n",
    "\n",
    "    def forward(self, inputs):\n",
    "        embeddings = self.embedding(inputs)\n",
    "        # print(embeddings.shape)\n",
    "        convolution = self.activate(self.conv1d(embeddings.permute([0, 2, 1])))\n",
    "        # print(convolution.shape)\n",
    "\n",
    "        pooling = F.max_pool1d(convolution, kernel_size=convolution.shape[2])\n",
    "\n",
    "        outputs = self.decoder(pooling.squeeze(dim=2))\n",
    "        # print(outputs)\n",
    "        # print(self.decoder)\n",
    "\n",
    "        return outputs\n"
   ],
   "metadata": {
    "collapsed": false
   }
  },
  {
   "cell_type": "code",
   "execution_count": 124,
   "outputs": [],
   "source": [
    "model_cnn = torch.load('model_cnn_TP_FP.pkl')\n",
    "# load model from file\n",
    "model_xgboost = pickle.load(open(\"xgboost_bert_model.pkl\", \"rb\"))\n",
    "ids_list = pickle.load(open('TP_FP_ids_list.pkl','rb'))"
   ],
   "metadata": {
    "collapsed": false
   }
  },
  {
   "cell_type": "code",
   "execution_count": 125,
   "outputs": [],
   "source": [
    "train = pd.read_csv('bert_train.csv')\n",
    "\n",
    "def from_data_x():\n",
    "    data = [eval(str_list) for str_list in train['feature']]\n",
    "    data = pd.DataFrame(data)\n",
    "    return data.to_numpy()\n",
    "def from_data_y():\n",
    "    labels = train['labels']\n",
    "    return labels.to_numpy()\n",
    "\n",
    "\n",
    "# 假设data是包含数据的DataFrame，target是包含标签的Series\n",
    "X = from_data_x()  # 特征数据\n",
    "y = from_data_y()  # 标签数据\n",
    "\n",
    "# 对验证集进行预测——类别\n",
    "X_train, X_test, y_train, y_test = train_test_split(X, y, test_size=0.2, random_state=100,shuffle=True)\n",
    "\n",
    "y_test_xgboost = model_xgboost.predict(X_test)\n",
    "\n"
   ],
   "metadata": {
    "collapsed": false
   }
  },
  {
   "cell_type": "code",
   "execution_count": 126,
   "outputs": [],
   "source": [
    "pickle_file = 'depression_glove_42B_300d_TP_FP.pkl'\n",
    "[train_features, train_labels, val_features, val_labels, test_features, weight, word_to_idx, idx_to_word, vocab] = pickle.load(open(pickle_file, 'rb'))\n",
    "\n",
    "\n",
    "X = val_features\n",
    "y_cnn = val_labels\n",
    "\n"
   ],
   "metadata": {
    "collapsed": false
   }
  },
  {
   "cell_type": "code",
   "execution_count": 127,
   "outputs": [],
   "source": [
    "# 启用推理模式\n",
    "model_cnn.eval()\n",
    "\n",
    "# 前向传播\n",
    "X = X.cuda()\n",
    "\n",
    "with torch.no_grad():\n",
    "    output = model_cnn(X)\n",
    "\n",
    "# 将输出转换为概率\n",
    "probabilities = torch.nn.functional.softmax(output, dim=1)\n",
    "\n",
    "# 获取预测结果\n",
    "_, y_pred_cnn = torch.max(probabilities, 1)\n"
   ],
   "metadata": {
    "collapsed": false
   }
  },
  {
   "cell_type": "code",
   "execution_count": 128,
   "outputs": [],
   "source": [
    "y_pred_cnn = y_pred_cnn.tolist()\n",
    "y_cnn = y_cnn.tolist()\n"
   ],
   "metadata": {
    "collapsed": false
   }
  },
  {
   "cell_type": "code",
   "execution_count": 133,
   "outputs": [],
   "source": [
    "y_pred_all = y_test_xgboost.tolist().copy()\n",
    "y_pred_all.extend(y_pred_cnn)\n",
    "y_all = y_test.tolist().copy()\n",
    "y_all.extend(y_cnn)\n"
   ],
   "metadata": {
    "collapsed": false
   }
  },
  {
   "cell_type": "code",
   "execution_count": 134,
   "outputs": [
    {
     "data": {
      "text/plain": "972"
     },
     "execution_count": 134,
     "metadata": {},
     "output_type": "execute_result"
    }
   ],
   "source": [
    "len(y_test)"
   ],
   "metadata": {
    "collapsed": false
   }
  },
  {
   "cell_type": "code",
   "execution_count": 135,
   "outputs": [],
   "source": [
    "def metrics_sklearn( y_pred_,y_valid):\n",
    "    \"\"\"模型对验证集和测试集结果的评分\"\"\"\n",
    "    # 准确率\n",
    "    accuracy = accuracy_score(y_valid, y_pred_)\n",
    "    print('Accuracy：%.6f%%' % (accuracy * 100))\n",
    "\n",
    "    # 精准率\n",
    "    precision = precision_score(y_valid, y_pred_)\n",
    "    print('Precision：%.6f%%' % (precision * 100))\n",
    "\n",
    "    # 召回率\n",
    "    recall = recall_score(y_valid, y_pred_)\n",
    "    # print(y_valid)\n",
    "    # print('-----------------------------')\n",
    "    # print(y_pred_)\n",
    "    print('Recall：%.6f%%' % (recall * 100))\n",
    "\n",
    "    # F1值\n",
    "    f1 = f1_score(y_valid, y_pred_)\n",
    "    print('F1：%.6f%%' % (f1 * 100))\n",
    "\n",
    "    # auc曲线下面积\n",
    "    auc = roc_auc_score(y_valid, y_pred_)\n",
    "    print('AUC：%.6f%%' % (auc * 100))\n",
    "\n",
    "    # ks值\n",
    "    fpr, tpr, thresholds = roc_curve(y_valid, y_pred_)\n",
    "    ks = max(abs(fpr - tpr))\n",
    "    print('KS：%.6f%%' % (ks * 100))\n"
   ],
   "metadata": {
    "collapsed": false
   }
  },
  {
   "cell_type": "code",
   "execution_count": 136,
   "outputs": [
    {
     "name": "stdout",
     "output_type": "stream",
     "text": [
      "Accuracy：84.321224%\n",
      "Precision：85.555556%\n",
      "Recall：33.771930%\n",
      "F1：48.427673%\n",
      "AUC：66.091344%\n",
      "KS：32.182688%\n"
     ]
    }
   ],
   "source": [
    "metrics_sklearn(np.array(y_pred_all),np.array(y_all))"
   ],
   "metadata": {
    "collapsed": false
   }
  },
  {
   "cell_type": "code",
   "execution_count": 132,
   "outputs": [],
   "source": [],
   "metadata": {
    "collapsed": false
   }
  }
 ],
 "metadata": {
  "kernelspec": {
   "display_name": "Python 3",
   "language": "python",
   "name": "python3"
  },
  "language_info": {
   "codemirror_mode": {
    "name": "ipython",
    "version": 2
   },
   "file_extension": ".py",
   "mimetype": "text/x-python",
   "name": "python",
   "nbconvert_exporter": "python",
   "pygments_lexer": "ipython2",
   "version": "2.7.6"
  }
 },
 "nbformat": 4,
 "nbformat_minor": 0
}
